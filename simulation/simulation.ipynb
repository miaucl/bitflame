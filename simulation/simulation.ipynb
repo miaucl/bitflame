{
 "cells": [
  {
   "cell_type": "markdown",
   "metadata": {},
   "source": [
    "## Bitflame Simulation"
   ]
  },
  {
   "cell_type": "code",
   "execution_count": 49,
   "metadata": {},
   "outputs": [
    {
     "name": "stdout",
     "output_type": "stream",
     "text": [
      "Requirement already satisfied: numpy in /Library/Frameworks/Python.framework/Versions/3.7/lib/python3.7/site-packages (1.19.4)\n",
      "Requirement already satisfied: Pillow in /Library/Frameworks/Python.framework/Versions/3.7/lib/python3.7/site-packages (8.0.1)\n",
      "Requirement already satisfied: matplotlib in /Library/Frameworks/Python.framework/Versions/3.7/lib/python3.7/site-packages (3.3.3)\n",
      "Requirement already satisfied: cycler>=0.10 in /Library/Frameworks/Python.framework/Versions/3.7/lib/python3.7/site-packages (from matplotlib) (0.10.0)\n",
      "Requirement already satisfied: pyparsing!=2.0.4,!=2.1.2,!=2.1.6,>=2.0.3 in /Library/Frameworks/Python.framework/Versions/3.7/lib/python3.7/site-packages (from matplotlib) (2.4.7)\n",
      "Requirement already satisfied: python-dateutil>=2.1 in /Library/Frameworks/Python.framework/Versions/3.7/lib/python3.7/site-packages (from matplotlib) (2.8.1)\n",
      "Requirement already satisfied: kiwisolver>=1.0.1 in /Library/Frameworks/Python.framework/Versions/3.7/lib/python3.7/site-packages (from matplotlib) (1.3.1)\n",
      "Requirement already satisfied: six in /Library/Frameworks/Python.framework/Versions/3.7/lib/python3.7/site-packages (from cycler>=0.10->matplotlib) (1.11.0)\n",
      "Note: you may need to restart the kernel to use updated packages.\n"
     ]
    }
   ],
   "source": [
    "%pip install numpy Pillow matplotlib\n",
    "\n",
    "from PIL import Image\n",
    "import numpy as np\n",
    "from matplotlib import pyplot as plt\n",
    "from random import random\n",
    "%matplotlib inline \n"
   ]
  },
  {
   "cell_type": "code",
   "execution_count": 249,
   "metadata": {},
   "outputs": [
    {
     "name": "stdout",
     "output_type": "stream",
     "text": [
      "HEAT: 0.2, O2: 0.002\n"
     ]
    }
   ],
   "source": [
    "WIDTH = 40\n",
    "HEIGHT = 40\n",
    "HEAT = 0.2 # Chance to create fire in cell for each underlying fire cell\n",
    "O2 = 0.002 # Chance to extinguish fire in cell per fire cell around\n",
    "CINDER = 3\n",
    "print(f\"HEAT: {HEAT}, O2: {O2}\")"
   ]
  },
  {
   "cell_type": "markdown",
   "metadata": {},
   "source": [
    "#### Utility functions"
   ]
  },
  {
   "cell_type": "code",
   "execution_count": 212,
   "metadata": {},
   "outputs": [],
   "source": [
    "def initMatrix():\n",
    "    \"\"\"Initialize a new matrix.\"\"\"\n",
    "    mat = np.zeros((HEIGHT, WIDTH), dtype=np.uint8) #np.uint8\n",
    "    mat[HEIGHT-CINDER:, :] = 1\n",
    "\n",
    "    return mat\n",
    "\n",
    "def nextMatrix(mat):\n",
    "    \"\"\"Calculate the next step of the matrix.\"\"\"\n",
    "    # Spread fire\n",
    "    for y in range(HEIGHT-CINDER):\n",
    "        for x in range(WIDTH):\n",
    "            # Bubble up no fire from underlying fire cell\n",
    "            if mat[y+1,x] == 0:\n",
    "                mat[y,x] = 0\n",
    "                \n",
    "            # Spread from 3 underlying fire cells            \n",
    "            if x-1 >= 0 and mat[y+1,x-1] > 0:\n",
    "                mat[y,x] = 1 if random() < HEAT else mat[y,x]\n",
    "            if mat[y+1,x] > 0:\n",
    "                mat[y,x] = 1 if random() < HEAT else mat[y,x]\n",
    "            if x+1 < WIDTH and mat[y+1,x+1] > 0:\n",
    "                mat[y,x] = 1 if random() < HEAT else mat[y,x]\n",
    "                \n",
    "\n",
    "    # Extinguish fire down- and sidewards\n",
    "    for y in reversed(range(1, HEIGHT-CINDER)):\n",
    "        for x in range(WIDTH):\n",
    "            if x-1 >= 0 and mat[y-1,x-1] > 0:\n",
    "                mat[y,x] = 0 if random() < O2 else mat[y,x]\n",
    "            if x-1 >= 0 and mat[y,x-1] > 0:\n",
    "                mat[y,x] = 0 if random() < O2 else mat[y,x]\n",
    "            if x-1 >= 0 and mat[y+1,x-1] > 0:\n",
    "                mat[y,x] = 0 if random() < O2 else mat[y,x]\n",
    "\n",
    "            if mat[y-1,x] > 0:\n",
    "                mat[y,x] = 0 if random() < O2 else mat[y,x]\n",
    "            if mat[y+1,x] > 0:\n",
    "                mat[y,x] = 0 if random() < O2 else mat[y,x]\n",
    "\n",
    "            if x+1 < WIDTH and mat[y-1,x+1] > 0:\n",
    "                mat[y,x] = 0 if random() < O2 else mat[y,x]\n",
    "            if x+1 < WIDTH and mat[y,x+1] > 0:\n",
    "                mat[y,x] = 0 if random() < O2 else mat[y,x]\n",
    "            if x+1 < WIDTH and mat[y+1,x+1] > 0:\n",
    "                mat[y,x] = 0 if random() < O2 else mat[y,x]\n",
    "\n",
    "\n",
    "    return mat"
   ]
  },
  {
   "cell_type": "markdown",
   "metadata": {},
   "source": [
    "### Small example"
   ]
  },
  {
   "cell_type": "code",
   "execution_count": 220,
   "metadata": {},
   "outputs": [
    {
     "data": {
      "image/png": "[encoded data removed]",
      "text/plain": [
       "<Figure size 432x288 with 11 Axes>"
      ]
     },
     "metadata": {
      "needs_background": "light"
     },
     "output_type": "display_data"
    }
   ],
   "source": [
    "N = 10\n",
    "fig, axes = plt.subplots(1, N+1)\n",
    "data = initMatrix()\n",
    "axes[0].imshow(data, interpolation='nearest', cmap=\"magma\")\n",
    "fig.suptitle('Time ->')\n",
    "for i in range(N):\n",
    "    data = nextMatrix(data)\n",
    "    axes[i+1].imshow(data, interpolation='nearest', cmap=\"magma\")\n",
    "plt.show()"
   ]
  },
  {
   "cell_type": "markdown",
   "metadata": {},
   "source": [
    "### Gif example"
   ]
  },
  {
   "cell_type": "code",
   "execution_count": 250,
   "metadata": {},
   "outputs": [],
   "source": [
    "N = 100\n",
    "imgs = list(range(N+1))\n",
    "data = initMatrix()\n",
    "imgs[0] = Image.fromarray(data * 255)\n",
    "for i in range(N):\n",
    "    data = nextMatrix(data)\n",
    "    imgs[i+1] = Image.fromarray(data * 255)\n",
    "imgs[0].save(f'fire_heat={HEAT}_o2={O2}_cinder={CINDER}.gif', save_all=True, append_images=imgs)"
   ]
  },
  {
   "cell_type": "code",
   "execution_count": null,
   "metadata": {},
   "outputs": [],
   "source": []
  }
 ],
 "metadata": {
  "kernelspec": {
   "display_name": "Python 3",
   "language": "python",
   "name": "python3"
  },
  "language_info": {
   "codemirror_mode": {
    "name": "ipython",
    "version": 3
   },
   "file_extension": ".py",
   "mimetype": "text/x-python",
   "name": "python",
   "nbconvert_exporter": "python",
   "pygments_lexer": "ipython3",
   "version": "3.7.0"
  }
 },
 "nbformat": 4,
 "nbformat_minor": 4
}
