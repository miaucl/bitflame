{
 "cells": [
  {
   "cell_type": "markdown",
   "metadata": {},
   "source": [
    "## Bitflame Simulation\n",
    "\n",
    "The Python implementation of the bitflame algorithmus."
   ]
  },
  {
   "cell_type": "code",
   "execution_count": 208,
   "metadata": {},
   "outputs": [
    {
     "name": "stdout",
     "output_type": "stream",
     "text": [
      "Requirement already satisfied: numpy in /Library/Frameworks/Python.framework/Versions/3.7/lib/python3.7/site-packages (1.19.4)\n",
      "Requirement already satisfied: Pillow in /Library/Frameworks/Python.framework/Versions/3.7/lib/python3.7/site-packages (8.0.1)\n",
      "Requirement already satisfied: matplotlib in /Library/Frameworks/Python.framework/Versions/3.7/lib/python3.7/site-packages (3.3.3)\n",
      "Requirement already satisfied: python-dateutil>=2.1 in /Library/Frameworks/Python.framework/Versions/3.7/lib/python3.7/site-packages (from matplotlib) (2.8.1)\n",
      "Requirement already satisfied: cycler>=0.10 in /Library/Frameworks/Python.framework/Versions/3.7/lib/python3.7/site-packages (from matplotlib) (0.10.0)\n",
      "Requirement already satisfied: kiwisolver>=1.0.1 in /Library/Frameworks/Python.framework/Versions/3.7/lib/python3.7/site-packages (from matplotlib) (1.3.1)\n",
      "Requirement already satisfied: pyparsing!=2.0.4,!=2.1.2,!=2.1.6,>=2.0.3 in /Library/Frameworks/Python.framework/Versions/3.7/lib/python3.7/site-packages (from matplotlib) (2.4.7)\n",
      "Requirement already satisfied: six>=1.5 in /Library/Frameworks/Python.framework/Versions/3.7/lib/python3.7/site-packages (from python-dateutil>=2.1->matplotlib) (1.11.0)\n",
      "Note: you may need to restart the kernel to use updated packages.\n"
     ]
    }
   ],
   "source": [
    "%pip install numpy Pillow matplotlib\n",
    "\n",
    "from PIL import Image\n",
    "import numpy as np\n",
    "from matplotlib import pyplot as plt\n",
    "from random import random\n",
    "%matplotlib inline \n"
   ]
  },
  {
   "cell_type": "markdown",
   "metadata": {},
   "source": [
    "## Parameters of the simulation\n",
    "\n",
    "* The size (_WIDTH_ and _HEIGHT_) define the pixels used for the simulation.\n",
    "* The _HEAT_ is a parameter spreading the fire. **Higher => more fire**\n",
    "* The _CO2_ is a parameter extinguishing the fire. **Higher => less fire**\n",
    "* The _CINDER_ defines how many pixel rows at the bottom are on constant fire serving as source.\n",
    "* The _FADE_ flag switches between boolean images _{0, 1}_ and grayscale images _[0, 1]_. The gray-value is high when a lot of fire is around and low for isolated fires.\n"
   ]
  },
  {
   "cell_type": "code",
   "execution_count": 209,
   "metadata": {},
   "outputs": [
    {
     "name": "stdout",
     "output_type": "stream",
     "text": [
      "HEAT: 0.2, CO2: 0.0008\n"
     ]
    }
   ],
   "source": [
    "WIDTH = 320\n",
    "HEIGHT = 120\n",
    "HEAT = 0.2 # Chance to create fire in cell for each underlying fire cell\n",
    "CO2 = 0.0008 # Chance to extinguish fire in cell per fire cell around\n",
    "CINDER = 3\n",
    "FADE = True\n",
    "print(f\"HEAT: {HEAT}, CO2: {CO2}\")"
   ]
  },
  {
   "cell_type": "markdown",
   "metadata": {},
   "source": [
    "#### Utility functions"
   ]
  },
  {
   "cell_type": "code",
   "execution_count": 210,
   "metadata": {},
   "outputs": [],
   "source": [
    "def initMatrix():\n",
    "    \"\"\"Initialize a new matrix.\n",
    "    \n",
    "    Set all to 0 except the {CINDER} lowest rows which are always on fire.\n",
    "    \"\"\"\n",
    "    mat = np.zeros((HEIGHT, WIDTH), dtype=np.float)\n",
    "    mat[HEIGHT-CINDER:, :] = 1\n",
    "\n",
    "    return mat\n",
    "\n",
    "def nextMatrix(mat):\n",
    "    \"\"\"Calculate the next step of the matrix.\n",
    "    \n",
    "    The algorithm has 3 parts and is done in-place:\n",
    "    \n",
    "        1. All empty(=0) cells extinguish the cell above them.\n",
    "            [x]       [o]\n",
    "             ^    =>   ^\n",
    "            [o]       [o]\n",
    "        \n",
    "        2. A cell can catch fire with a probability of {HEAT} for each full(=1) of the 3 cells below it.\n",
    "             >  [o]  <        >  [x]  <\n",
    "             ^   ^   ^   =>   ^   ^   ^\n",
    "            [x] [x] [x]      [x] [x] [x]\n",
    "        \n",
    "        3. A full(=1) cell can extinguish any cell around it with a probability of {CO2}.\n",
    "            [x] [x] [x]    [o] [x] [o]\n",
    "            [x] [x] [x] => [o] [x] [o]\n",
    "            [x] [x] [x]    [o] [o] [o]\n",
    "\n",
    "    Those 3 steps stack and can overwrite the previous step.\n",
    "    \"\"\"\n",
    "    # Spread fire\n",
    "    for y in range(HEIGHT-CINDER):\n",
    "        for x in range(WIDTH):\n",
    "            # Bubble up no fire from underlying fire cell\n",
    "            if mat[y+1,x] == 0:\n",
    "                mat[y,x] = 0\n",
    "                \n",
    "            # Spread from 3 underlying fire cells            \n",
    "            if x-1 >= 0 and mat[y+1,x-1] > 0:\n",
    "                mat[y,x] = 1 if random() < HEAT else mat[y,x]\n",
    "            if mat[y+1,x] > 0:\n",
    "                mat[y,x] = 1 if random() < HEAT else mat[y,x]\n",
    "            if x+1 < WIDTH and mat[y+1,x+1] > 0:\n",
    "                mat[y,x] = 1 if random() < HEAT else mat[y,x]\n",
    "                \n",
    "\n",
    "    # Extinguish fire around\n",
    "    for y in reversed(range(1, HEIGHT-CINDER)):\n",
    "        for x in range(WIDTH):\n",
    "            if x-1 >= 0 and mat[y-1,x-1] > 0:\n",
    "                mat[y,x] = 0 if random() < CO2 else mat[y,x]\n",
    "            if x-1 >= 0 and mat[y,x-1] > 0:\n",
    "                mat[y,x] = 0 if random() < CO2 else mat[y,x]\n",
    "            if x-1 >= 0 and mat[y+1,x-1] > 0:\n",
    "                mat[y,x] = 0 if random() < CO2 else mat[y,x]\n",
    "\n",
    "            if mat[y-1,x] > 0:\n",
    "                mat[y,x] = 0 if random() < CO2 else mat[y,x]\n",
    "            if mat[y+1,x] > 0:\n",
    "                mat[y,x] = 0 if random() < CO2 else mat[y,x]\n",
    "\n",
    "            if x+1 < WIDTH and mat[y-1,x+1] > 0:\n",
    "                mat[y,x] = 0 if random() < CO2 else mat[y,x]\n",
    "            if x+1 < WIDTH and mat[y,x+1] > 0:\n",
    "                mat[y,x] = 0 if random() < CO2 else mat[y,x]\n",
    "            if x+1 < WIDTH and mat[y+1,x+1] > 0:\n",
    "                mat[y,x] = 0 if random() < CO2 else mat[y,x]\n",
    "                \n",
    "    return mat\n",
    "\n",
    "def fadeMatrix(mat):\n",
    "    \"\"\"Fade matrix based on fire proximity.\n",
    "    \n",
    "    Count the fire around each cell and set the value of the cell accordingly:\n",
    "    val_cell[i] = sum(val_cell[i-1:i+1,i-1:i+1])/sum(cells_around)\n",
    "    \n",
    "    (For cells at the border, the cells_around gets adjusted accordingly so it is 1 when all \n",
    "    cells around are on fire, regardless or the count.)\n",
    "    \n",
    "    Creates a copy of the matrix and cannot be done in-place.\n",
    "    \"\"\"\n",
    "    fadedMat = np.copy(mat)\n",
    "    \n",
    "    # Fade\n",
    "    for y in range(HEIGHT):\n",
    "        for x in range(WIDTH):\n",
    "            if not mat[y,x]:\n",
    "                continue\n",
    "                \n",
    "            c = 1\n",
    "            a = 1\n",
    "            \n",
    "            if x-1 < 0 and y-1 >= 0:\n",
    "                a = a + 1\n",
    "                if mat[y-1,x-1] > 0:\n",
    "                    c = c + 1\n",
    "            if x-1 >= 0:\n",
    "                a = a + 1\n",
    "                if mat[y,x-1] > 0:\n",
    "                    c = c + 1\n",
    "            if x-1 >= 0 and y+1 < HEIGHT:\n",
    "                a = a + 1\n",
    "                if mat[y+1,x-1] > 0:\n",
    "                    c = c + 1\n",
    "\n",
    "            if y-1 >= 0:\n",
    "                a = a + 1\n",
    "                if mat[y-1,x] > 0:\n",
    "                    c = c + 1\n",
    "            if y+1 < HEIGHT:\n",
    "                a = a + 1\n",
    "                if mat[y+1,x] > 0:\n",
    "                    c = c + 1\n",
    "\n",
    "            if x+1 < WIDTH and y-1 >= 0:\n",
    "                a = a + 1\n",
    "                if mat[y-1,x+1] > 0:\n",
    "                    c = c + 1\n",
    "            if x+1 < WIDTH:\n",
    "                a = a + 1\n",
    "                if mat[y,x+1] > 0:\n",
    "                    c = c + 1\n",
    "            if x+1 < WIDTH and y+1 < HEIGHT:\n",
    "                a = a + 1\n",
    "                if mat[y+1,x+1] > 0:\n",
    "                    c = c + 1\n",
    "\n",
    "            fadedMat[y,x] = c / a\n",
    "\n",
    "\n",
    "    return fadedMat"
   ]
  },
  {
   "cell_type": "markdown",
   "metadata": {},
   "source": [
    "### Gif example\n",
    "\n",
    "Create a GIF example based on the parameters."
   ]
  },
  {
   "cell_type": "code",
   "execution_count": 211,
   "metadata": {},
   "outputs": [],
   "source": [
    "N = 200 # The number of images\n",
    "imgs = list(range(N+1))\n",
    "data = initMatrix() \n",
    "imgs[0] = Image.fromarray(np.uint8(fadeMatrix(data) * 255))\n",
    "for i in range(N):\n",
    "    data = nextMatrix(data)\n",
    "    imgs[i+1] = Image.fromarray(np.uint8(fadeMatrix(data) * 255))\n",
    "imgs[0].save(f'fire_{HEIGHT}x{WIDTH}_heat={HEAT}_CO2={CO2}_cinder={CINDER}.gif', save_all=True, append_images=imgs)"
   ]
  },
  {
   "cell_type": "markdown",
   "metadata": {},
   "source": [
    "### Small example\n",
    "\n",
    "Small example which directly plots the images."
   ]
  },
  {
   "cell_type": "code",
   "execution_count": 212,
   "metadata": {},
   "outputs": [
    {
     "data": {
      "image/png": "[encoded data removed]",
      "text/plain": [
       "<Figure size 432x288 with 11 Axes>"
      ]
     },
     "metadata": {
      "needs_background": "light"
     },
     "output_type": "display_data"
    }
   ],
   "source": [
    "N = 10\n",
    "fig, axes = plt.subplots(1, N+1)\n",
    "data = initMatrix()\n",
    "axes[0].imshow(data, interpolation='nearest', cmap=\"magma\")\n",
    "fig.suptitle('Time ->')\n",
    "for i in range(N):\n",
    "    data = nextMatrix(data)\n",
    "    axes[i+1].imshow(data, interpolation='nearest', cmap=\"magma\")\n",
    "plt.show()"
   ]
  },
  {
   "cell_type": "code",
   "execution_count": null,
   "metadata": {},
   "outputs": [],
   "source": []
  }
 ],
 "metadata": {
  "kernelspec": {
   "display_name": "Python 3",
   "language": "python",
   "name": "python3"
  },
  "language_info": {
   "codemirror_mode": {
    "name": "ipython",
    "version": 3
   },
   "file_extension": ".py",
   "mimetype": "text/x-python",
   "name": "python",
   "nbconvert_exporter": "python",
   "pygments_lexer": "ipython3",
   "version": "3.7.0"
  }
 },
 "nbformat": 4,
 "nbformat_minor": 4
}
